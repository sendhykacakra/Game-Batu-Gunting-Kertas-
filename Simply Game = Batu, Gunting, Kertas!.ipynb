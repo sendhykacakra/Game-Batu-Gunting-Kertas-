{
 "cells": [
  {
   "cell_type": "code",
   "execution_count": 1,
   "metadata": {},
   "outputs": [],
   "source": [
    "from random import randint\n",
    "\n",
    "#membuat list pilihan permainan\n",
    "t = [\"Batu\", \"Gunting\", \"Kertas\"]"
   ]
  },
  {
   "cell_type": "code",
   "execution_count": 2,
   "metadata": {},
   "outputs": [],
   "source": [
    "#Bermain acak dengan komputer\n",
    "computer = t[randint(0,2)]"
   ]
  },
  {
   "cell_type": "code",
   "execution_count": 3,
   "metadata": {},
   "outputs": [],
   "source": [
    "#Atur pemain menjadi false\n",
    "player = False"
   ]
  },
  {
   "cell_type": "code",
   "execution_count": null,
   "metadata": {},
   "outputs": [
    {
     "name": "stdout",
     "output_type": "stream",
     "text": [
      "Batu, Kertas, Gunting?Gunting\n",
      "Kamu Menang! Gunting memotong Kertas\n",
      "Batu, Kertas, Gunting?Batu\n",
      "Kamu Kalah! Kertas menutup Batu\n",
      "Batu, Kertas, Gunting?Batu\n",
      "Seri\n",
      "Batu, Kertas, Gunting?Kertas\n",
      "Kamu Kalah! Gunting memotong Kertas\n",
      "Batu, Kertas, Gunting?Palu\n",
      "Cek ulang text nya!\n"
     ]
    }
   ],
   "source": [
    "while player == False:\n",
    "#Atur pemain menjadi true\n",
    "    player = input(\"Batu, Kertas, Gunting?\")\n",
    "    if player == computer:\n",
    "        print(\"Seri\")\n",
    "    elif player == \"Batu\":\n",
    "        if computer == \"Kertas\":\n",
    "            print(\"Kamu Kalah!\", computer, \"menutup\", player)\n",
    "        else:\n",
    "            print(\"Kamu Menang!\", player, \"menghancurkan\", computer)\n",
    "    elif player == \"Kertas\":\n",
    "        if computer == \"Gunting\":\n",
    "            print(\"Kamu Kalah!\", computer, \"memotong\", player)\n",
    "        else:\n",
    "            print(\"Kamu Menang!\", player, \"menutup\", computer)\n",
    "    elif player == \"Gunting\":\n",
    "        if computer == \"Batu\":\n",
    "            print(\"Kamu Kalah!\", computer, \"menghancurkan\", player)\n",
    "        else:\n",
    "            print(\"Kamu Menang!\", player, \"memotong\", computer)\n",
    "    else:\n",
    "        print(\"Cek ulang text nya!\")\n",
    "#permainan\n",
    "    player = False\n",
    "    computer = t[randint(0,2)]"
   ]
  },
  {
   "cell_type": "code",
   "execution_count": null,
   "metadata": {},
   "outputs": [],
   "source": []
  }
 ],
 "metadata": {
  "kernelspec": {
   "display_name": "Python 3",
   "language": "python",
   "name": "python3"
  },
  "language_info": {
   "codemirror_mode": {
    "name": "ipython",
    "version": 3
   },
   "file_extension": ".py",
   "mimetype": "text/x-python",
   "name": "python",
   "nbconvert_exporter": "python",
   "pygments_lexer": "ipython3",
   "version": "3.7.6"
  }
 },
 "nbformat": 4,
 "nbformat_minor": 4
}
